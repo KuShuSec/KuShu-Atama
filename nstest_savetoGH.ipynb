{
  "cells": [
    {
      "cell_type": "markdown",
      "metadata": {
        "id": "view-in-github",
        "colab_type": "text"
      },
      "source": [
        "<a href=\"https://colab.research.google.com/github/KuShuSec/KuShu-Atama/blob/main/nstest_savetoGH.ipynb\" target=\"_parent\"><img src=\"https://colab.research.google.com/assets/colab-badge.svg\" alt=\"Open In Colab\"/></a>"
      ]
    },
    {
      "cell_type": "markdown",
      "metadata": {
        "id": "_7gRpQLXQSID"
      },
      "source": [
        "# Forms\n",
        "\n",
        "Forms provide an easy way to parameterize code. From a code cell, select **Insert → Add form field**.  When you change the value in a form, the corresponding value in the code will change."
      ]
    },
    {
      "cell_type": "code",
      "source": [
        "First and Last Name\tSSN\tCredit Card Number\n",
        "Visa MC AMEX\n",
        "Robert Aragon\t489-36-8350\t4929-3813-3266-4295\n",
        "Ashley Borden\t514-14-8905\t5370-4638-8881-3020\n",
        "Thomas Conley\t690-05-5315\t4916-4811-5814-8111\n",
        "Susan Davis\t421-37-1396\t4916-4034-9269-8783\n",
        "Christopher Diaz\t458-02-6124\t5299-1561-5689-1938\n",
        "Rick Edwards\t612-20-6832\t5293-8502-0071-3058\n",
        "Victor Faulkner\t300-62-3266\t5548-0246-6336-5664\n",
        "Lisa Garrison\t660-03-8360\t4539-5385-7425-5825\n",
        "Marjorie Green\t213-46-8915\t4916-9766-5240-6147\n",
        "Mark Hall\t449-48-3135\t4556-0072-1294-7415\n",
        "James Heard\t559-81-1301\t4532-4220-6922-9909\n",
        "Albert Iorio\t322-84-2281\t4916-6734-7572-5015\n",
        "Charles Jackson\t646-44-9061\t5218-0144-2703-9266\n",
        "Teresa Kaminski\t465-73-5022\t5399-0706-4128-0178\n",
        "Tim Lowe\t044-34-6954\t5144-8691-2776-1108\n",
        "Monte Mceachern\t477-36-0282\t5527-1247-5046-7780\n",
        "Adriane Morrison\t421-90-3440\t4539-0031-3703-0728\n",
        "Jerome Munsch\t524-02-7657\t5180-3807-3679-8221\n",
        "Agnes Nelson\t205-52-0027\t5413-4428-0145-0036\n",
        "Lynette Oyola\t587-03-2682\t4532-9929-3036-9308\n",
        "Stacey Peacock\t687-05-8365\t5495-8602-4508-6804\n",
        "Julie Renfro\t751-01-2327\t5325-3256-9519-6624\n",
        "Danny Reyes\t624-84-9181\t4532-0065-1968-5602\n",
        "Jacki Russell\t514-30-2668\t345389698201044\n",
        "Thomas Santos\t451-80-3526\t4716-6984-4983-6160\n",
        "Mireille Townsend\t404-12-2154\t4539-8219-0484-7598\n",
        "Lillian Venson\t505-88-5714\t30204861594838\n",
        "Gail Watson\t461-97-5660\t4532-1753-6071-1112\n",
        "Johnson White\t172-32-1176\t5270-4267-6450-5516\n",
        "Rebecca Zwick\t151-32-2558\t5252-5971-4219-4116"
      ],
      "metadata": {
        "id": "Gp8wcvXZcLZl"
      },
      "execution_count": null,
      "outputs": []
    },
    {
      "cell_type": "code",
      "execution_count": null,
      "metadata": {
        "id": "3jKM6GfzlgpS"
      },
      "outputs": [],
      "source": [
        "# @title String fields\n",
        "\n",
        "text = 'value' # @param {type:\"string\"}\n",
        "dropdown = '1st option' # @param [\"1st option\", \"2nd option\", \"3rd option\"]\n",
        "text_and_dropdown = 'value' # @param [\"1st option\", \"2nd option\", \"3rd option\"] {allow-input: true}\n",
        "text_with_placeholder = '' # @param {type:\"string\", placeholder:\"enter a value\"}\n",
        "\n",
        "print(text)\n",
        "print(dropdown)\n",
        "print(text_and_dropdown)\n",
        "print(text_with_placeholder)"
      ]
    },
    {
      "cell_type": "code",
      "execution_count": null,
      "metadata": {
        "id": "bf5LUmgZt-kT"
      },
      "outputs": [],
      "source": [
        "# @title Raw fields\n",
        "\n",
        "raw_input = None # @param {type:\"raw\"}\n",
        "raw_dropdown = raw_input # @param [1, \"raw_input\", \"False\", \"'string'\"] {type:\"raw\"}\n",
        "raw_with_placeholder = None # @param {type:\"raw\", placeholder:\"enter a value\"}\n",
        "\n",
        "print(raw_input)\n",
        "print(raw_dropdown)\n",
        "print(raw_with_placeholder)"
      ]
    },
    {
      "cell_type": "code",
      "execution_count": null,
      "metadata": {
        "id": "aw5lgeRbubeF"
      },
      "outputs": [],
      "source": [
        "# @title Date fields\n",
        "date_input = '2018-03-22' # @param {type:\"date\"}\n",
        "\n",
        "print(date_input)"
      ]
    },
    {
      "cell_type": "code",
      "execution_count": null,
      "metadata": {
        "id": "eFN7-fUKs-Bu"
      },
      "outputs": [],
      "source": [
        "# @title Number fields\n",
        "number_input = 10.0 # @param {type:\"number\"}\n",
        "number_slider = 0 # @param {type:\"slider\", min:-1, max:1, step:0.1}\n",
        "\n",
        "integer_input = 10 # @param {type:\"integer\"}\n",
        "integer_slider = 1 # @param {type:\"slider\", min:0, max:100, step:1}\n",
        "\n",
        "print(number_input)\n",
        "print(number_slider)\n",
        "\n",
        "print(integer_input)\n",
        "print(integer_slider)"
      ]
    },
    {
      "cell_type": "code",
      "execution_count": null,
      "metadata": {
        "id": "ig8PIYeLtM8g"
      },
      "outputs": [],
      "source": [
        "# @title Boolean fields\n",
        "boolean_checkbox = True # @param {type:\"boolean\"}\n",
        "boolean_dropdown = True # @param [\"False\", \"True\"] {type:\"raw\"}\n",
        "\n",
        "print(boolean_checkbox)\n",
        "print(boolean_dropdown)"
      ]
    },
    {
      "cell_type": "code",
      "execution_count": null,
      "metadata": {
        "id": "ZCEBZPwUDGOg"
      },
      "outputs": [],
      "source": [
        "# @title ## Markdown\n",
        "# @markdown You can also include Markdown in forms.\n",
        "\n",
        "# @markdown ---\n",
        "# @markdown ### Enter a file path:\n",
        "file_path = \"\" # @param {type:\"string\"}\n",
        "# @markdown ---\n",
        "\n"
      ]
    },
    {
      "cell_type": "markdown",
      "metadata": {
        "id": "hVEG5D5TxFKW"
      },
      "source": [
        "# Hiding code\n",
        "\n",
        "You can change the view of the form by selecting **View → Show/hide code** or using the toolbar above the selected code cell. You can see both code and the form, just the form, or just the code."
      ]
    },
    {
      "cell_type": "code",
      "execution_count": null,
      "metadata": {
        "id": "EcCggMLi0KDE"
      },
      "outputs": [],
      "source": []
    },
    {
      "cell_type": "code",
      "execution_count": null,
      "metadata": {
        "id": "ad-fjFOQxoFG"
      },
      "outputs": [],
      "source": [
        "# @title Click `Show code` in the code cell. { display-mode: \"form\" }\n",
        "\n",
        "option1 = 'A' # @param [\"A\", \"B\", \"C\"]\n",
        "print('You selected', option1)\n"
      ]
    },
    {
      "cell_type": "code",
      "execution_count": null,
      "metadata": {
        "id": "h9aZYKhly2h_"
      },
      "outputs": [],
      "source": [
        "# @title After running this cell manually, it will auto-run if you change the selected value. { run: \"auto\" }\n",
        "\n",
        "option2 = \"A\" # @param [\"A\", \"B\", \"C\"]\n",
        "print('You selected', option2)\n"
      ]
    },
    {
      "cell_type": "markdown",
      "metadata": {
        "id": "62YnDE7i9dqP"
      },
      "source": [
        "# Using Jupyter Widgets for interactivity\n",
        "\n",
        "Colab supports the core set of Jupyter Widgets for providing interactions between Python and the browser.\n",
        "\n",
        "See the official [Jupyter Widgets documentation](https://ipywidgets.readthedocs.io/en/latest/examples/Widget%20Basics.html)."
      ]
    },
    {
      "cell_type": "code",
      "execution_count": null,
      "metadata": {
        "id": "WPib9hvO8Pmb"
      },
      "outputs": [],
      "source": [
        "import ipywidgets as widgets\n",
        "from IPython.display import display\n",
        "button = widgets.Button(description=\"Click Me!\")\n",
        "output = widgets.Output()\n",
        "\n",
        "def on_button_clicked(b):\n",
        "  # Display the message within the output widget.\n",
        "  with output:\n",
        "    print(\"Button clicked.\")\n",
        "\n",
        "button.on_click(on_button_clicked)\n",
        "display(button, output)"
      ]
    },
    {
      "cell_type": "markdown",
      "metadata": {
        "id": "F9zl8NDWCKbS"
      },
      "source": [
        "### Using Jupyter Widgets sliders"
      ]
    },
    {
      "cell_type": "code",
      "execution_count": null,
      "metadata": {
        "id": "8JNPFRy9BBhS"
      },
      "outputs": [],
      "source": [
        "import ipywidgets as widgets\n",
        "slider = widgets.IntSlider(value=5, max=10)\n",
        "display(slider)"
      ]
    },
    {
      "cell_type": "code",
      "execution_count": null,
      "metadata": {
        "id": "KxoHySheBE0G"
      },
      "outputs": [],
      "source": [
        "# The current value of the slider\n",
        "slider.value"
      ]
    }
  ],
  "metadata": {
    "colab": {
      "name": "Forms",
      "toc_visible": true,
      "provenance": [],
      "include_colab_link": true
    },
    "kernelspec": {
      "display_name": "Python 3",
      "name": "python3"
    }
  },
  "nbformat": 4,
  "nbformat_minor": 0
}